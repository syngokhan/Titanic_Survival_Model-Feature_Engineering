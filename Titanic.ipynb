{
 "cells": [
  {
   "cell_type": "code",
   "execution_count": 1,
   "id": "attached-porter",
   "metadata": {},
   "outputs": [],
   "source": [
    "import pandas as pd\n",
    "import numpy as np\n",
    "import seaborn as sns\n",
    "import matplotlib.pyplot as plt\n",
    "%matplotlib inline"
   ]
  },
  {
   "cell_type": "code",
   "execution_count": 2,
   "id": "surface-divorce",
   "metadata": {},
   "outputs": [],
   "source": [
    "from helpers.data_prep import *\n",
    "from helpers.eda import *\n",
    "from sklearn.preprocessing import StandardScaler\n",
    "\n",
    "import pickle\n",
    "\n",
    "from warnings import filterwarnings\n",
    "filterwarnings(\"ignore\", category=FutureWarning)\n",
    "filterwarnings(\"ignore\")"
   ]
  },
  {
   "cell_type": "code",
   "execution_count": 3,
   "id": "broken-response",
   "metadata": {},
   "outputs": [],
   "source": [
    "pd.set_option(\"display.max_columns\" ,None)\n",
    "pd.set_option(\"display.width\", 200)\n",
    "pd.set_option(\"display.float_format\" , lambda x : \"%.3f\" % x)"
   ]
  },
  {
   "cell_type": "code",
   "execution_count": 4,
   "id": "advised-framework",
   "metadata": {},
   "outputs": [],
   "source": [
    "def titanic():\n",
    "    \n",
    "    dataframe = pd.read_csv(\"/Users/gokhanersoz/Desktop/VBO_Dataset/titanic.csv\")\n",
    "    \n",
    "    return dataframe                        "
   ]
  },
  {
   "cell_type": "code",
   "execution_count": 5,
   "id": "deluxe-mounting",
   "metadata": {},
   "outputs": [],
   "source": [
    "df = titanic()"
   ]
  },
  {
   "cell_type": "code",
   "execution_count": 6,
   "id": "extended-reflection",
   "metadata": {},
   "outputs": [],
   "source": [
    "def boxplot(dataframe, num_cols):\n",
    "    \n",
    "    i = 1\n",
    "    size = 15\n",
    "    num_ = len(num_cols)\n",
    "    plt.figure(figsize =(12,7))\n",
    "    \n",
    "    for num in num_cols:\n",
    "        \n",
    "        plt.subplot(num_,1,i)\n",
    "        sns.boxplot(dataframe[num])\n",
    "        plt.xlabel(f\"{num.upper()}\", fontsize = size)\n",
    "        plt.ylabel(\"Values\".upper(), fontsize = size)\n",
    "        plt.title(f\"{num.upper()} Outliers\", fontsize = size)       \n",
    "        plt.tight_layout()\n",
    "        i+=1\n",
    "               \n",
    "    plt.show()"
   ]
  },
  {
   "cell_type": "code",
   "execution_count": 7,
   "id": "mediterranean-rebecca",
   "metadata": {},
   "outputs": [
    {
     "name": "stdout",
     "output_type": "stream",
     "text": [
      "##################### SHAPE ######################\n",
      "\n",
      "(891, 12)\n",
      "\n",
      "##################### TYPES ######################\n",
      "\n",
      "PassengerId      int64\n",
      "Survived         int64\n",
      "Pclass           int64\n",
      "Name            object\n",
      "Sex             object\n",
      "Age            float64\n",
      "SibSp            int64\n",
      "Parch            int64\n",
      "Ticket          object\n",
      "Fare           float64\n",
      "Cabin           object\n",
      "Embarked        object\n",
      "dtype: object\n",
      "\n",
      "###################### HEAD ######################\n",
      "\n",
      "   PassengerId  Survived  Pclass                                               Name     Sex    Age  SibSp  Parch            Ticket   Fare Cabin Embarked\n",
      "0            1         0       3                            Braund, Mr. Owen Harris    male 22.000      1      0         A/5 21171  7.250   NaN        S\n",
      "1            2         1       1  Cumings, Mrs. John Bradley (Florence Briggs Th...  female 38.000      1      0          PC 17599 71.283   C85        C\n",
      "2            3         1       3                             Heikkinen, Miss. Laina  female 26.000      0      0  STON/O2. 3101282  7.925   NaN        S\n",
      "3            4         1       1       Futrelle, Mrs. Jacques Heath (Lily May Peel)  female 35.000      1      0            113803 53.100  C123        S\n",
      "4            5         0       3                           Allen, Mr. William Henry    male 35.000      0      0            373450  8.050   NaN        S\n",
      "\n",
      "###################### TAIL ######################\n",
      "\n",
      "     PassengerId  Survived  Pclass                                      Name     Sex    Age  SibSp  Parch      Ticket   Fare Cabin Embarked\n",
      "886          887         0       2                     Montvila, Rev. Juozas    male 27.000      0      0      211536 13.000   NaN        S\n",
      "887          888         1       1              Graham, Miss. Margaret Edith  female 19.000      0      0      112053 30.000   B42        S\n",
      "888          889         0       3  Johnston, Miss. Catherine Helen \"Carrie\"  female    NaN      1      2  W./C. 6607 23.450   NaN        S\n",
      "889          890         1       1                     Behr, Mr. Karl Howell    male 26.000      0      0      111369 30.000  C148        C\n",
      "890          891         0       3                       Dooley, Mr. Patrick    male 32.000      0      0      370376  7.750   NaN        Q\n",
      "\n",
      "####################### NA #######################\n",
      "\n",
      "PassengerId      0\n",
      "Survived         0\n",
      "Pclass           0\n",
      "Name             0\n",
      "Sex              0\n",
      "Age            177\n",
      "SibSp            0\n",
      "Parch            0\n",
      "Ticket           0\n",
      "Fare             0\n",
      "Cabin          687\n",
      "Embarked         2\n",
      "dtype: int64\n",
      "\n",
      "################### DIMENSION ####################\n",
      "\n",
      "2 Dimension\n",
      "\n",
      "################### QUANTILES ####################\n",
      "\n",
      "             0.000  0.010  0.050   0.500   0.950   0.990   1.000\n",
      "PassengerId  1.000  9.900 45.500 446.000 846.500 882.100 891.000\n",
      "Survived     0.000  0.000  0.000   0.000   1.000   1.000   1.000\n",
      "Pclass       1.000  1.000  1.000   3.000   3.000   3.000   3.000\n",
      "Age          0.420  1.000  4.000  28.000  56.000  65.870  80.000\n",
      "SibSp        0.000  0.000  0.000   0.000   3.000   5.000   8.000\n",
      "Parch        0.000  0.000  0.000   0.000   2.000   4.000   6.000\n",
      "Fare         0.000  0.000  7.225  14.454 112.079 249.006 512.329\n",
      "\n"
     ]
    }
   ],
   "source": [
    "check_df(df)"
   ]
  },
  {
   "cell_type": "code",
   "execution_count": 8,
   "id": "knowing-burner",
   "metadata": {},
   "outputs": [
    {
     "name": "stdout",
     "output_type": "stream",
     "text": [
      "Observations : 891\n",
      "Variables : 12\n",
      "Cat Cols : 9\n",
      "Num Cols : 3\n",
      "Cat But Car : 3\n",
      "Num But Cat : 4\n"
     ]
    }
   ],
   "source": [
    "cat_cols ,num_cols, cat_but_car = grab_col_names(df,details = True)"
   ]
  },
  {
   "cell_type": "code",
   "execution_count": 9,
   "id": "focal-secretariat",
   "metadata": {
    "scrolled": true
   },
   "outputs": [
    {
     "name": "stdout",
     "output_type": "stream",
     "text": [
      "                                       TARGET_MEAN\n",
      "Name                                              \n",
      "Abbing, Mr. Anthony                              0\n",
      "Abbott, Mr. Rossmore Edward                      0\n",
      "Abbott, Mrs. Stanton (Rosa Hunt)                 1\n",
      "Abelson, Mr. Samuel                              0\n",
      "Abelson, Mrs. Samuel (Hannah Wizosky)            1\n",
      "...                                            ...\n",
      "de Mulder, Mr. Theodore                          1\n",
      "de Pelsmaeker, Mr. Alfons                        0\n",
      "del Carlo, Mr. Sebastiano                        0\n",
      "van Billiard, Mr. Austin Blyler                  0\n",
      "van Melkebeke, Mr. Philemon                      0\n",
      "\n",
      "[891 rows x 1 columns]\n",
      "\n",
      "        TARGET_MEAN\n",
      "Sex                \n",
      "female        0.742\n",
      "male          0.189\n",
      "\n",
      "             TARGET_MEAN\n",
      "Ticket                  \n",
      "110152             1.000\n",
      "110413             0.667\n",
      "110465             0.000\n",
      "110564             1.000\n",
      "110813             1.000\n",
      "...                  ...\n",
      "W./C. 6608         0.000\n",
      "W./C. 6609         0.000\n",
      "W.E.P. 5734        0.000\n",
      "W/C 14208          0.000\n",
      "WE/P 5735          0.500\n",
      "\n",
      "[681 rows x 1 columns]\n",
      "\n",
      "       TARGET_MEAN\n",
      "Cabin             \n",
      "A10          0.000\n",
      "A14          0.000\n",
      "A16          1.000\n",
      "A19          0.000\n",
      "A20          1.000\n",
      "...            ...\n",
      "F33          1.000\n",
      "F38          0.000\n",
      "F4           1.000\n",
      "G6           0.500\n",
      "T            0.000\n",
      "\n",
      "[147 rows x 1 columns]\n",
      "\n",
      "          TARGET_MEAN\n",
      "Embarked             \n",
      "C               0.554\n",
      "Q               0.390\n",
      "S               0.337\n",
      "\n",
      "          TARGET_MEAN\n",
      "Survived             \n",
      "0                   0\n",
      "1                   1\n",
      "\n",
      "        TARGET_MEAN\n",
      "Pclass             \n",
      "1             0.630\n",
      "2             0.473\n",
      "3             0.242\n",
      "\n",
      "       TARGET_MEAN\n",
      "SibSp             \n",
      "0            0.345\n",
      "1            0.536\n",
      "2            0.464\n",
      "3            0.250\n",
      "4            0.167\n",
      "5            0.000\n",
      "8            0.000\n",
      "\n",
      "       TARGET_MEAN\n",
      "Parch             \n",
      "0            0.344\n",
      "1            0.551\n",
      "2            0.500\n",
      "3            0.600\n",
      "4            0.000\n",
      "5            0.200\n",
      "6            0.000\n",
      "\n"
     ]
    }
   ],
   "source": [
    "for cat in cat_cols:\n",
    "    target_summary_with_cat(df, \"Survived\", cat)"
   ]
  },
  {
   "cell_type": "code",
   "execution_count": 10,
   "id": "spanish-uniform",
   "metadata": {},
   "outputs": [
    {
     "name": "stdout",
     "output_type": "stream",
     "text": [
      "          PassengerId\n",
      "Survived             \n",
      "0             447.016\n",
      "1             444.368\n",
      "\n",
      "            Age\n",
      "Survived       \n",
      "0        30.626\n",
      "1        28.344\n",
      "\n",
      "           Fare\n",
      "Survived       \n",
      "0        22.118\n",
      "1        48.395\n",
      "\n"
     ]
    }
   ],
   "source": [
    "for num in num_cols:\n",
    "    target_summary_with_num(df , \"Survived\", num)"
   ]
  },
  {
   "cell_type": "code",
   "execution_count": 11,
   "id": "inside-vessel",
   "metadata": {},
   "outputs": [
    {
     "name": "stdout",
     "output_type": "stream",
     "text": [
      "                                                    NAME  RATIO\n",
      "Louch, Mrs. Charles Alexander (Alice Adelaide S...     1  0.112\n",
      "Herman, Mrs. Samuel (Jane Laver)                       1  0.112\n",
      "Harper, Mrs. Henry Sleeper (Myna Haxtun)               1  0.112\n",
      "Seward, Mr. Frederic Kimber                            1  0.112\n",
      "Thayer, Mrs. John Borland (Marian Longstreth Mo...     1  0.112\n",
      "...                                                  ...    ...\n",
      "Madigan, Miss. Margaret \"Maggie\"                       1  0.112\n",
      "Rogers, Mr. William John                               1  0.112\n",
      "Kink, Mr. Vincenz                                      1  0.112\n",
      "Kenyon, Mrs. Frederick R (Marion)                      1  0.112\n",
      "Strandberg, Miss. Ida Sofia                            1  0.112\n",
      "\n",
      "[891 rows x 2 columns]\n",
      "\n",
      "##################################################\n",
      "\n"
     ]
    },
    {
     "data": {
      "image/png": "[encoded data removed]",
      "text/plain": [
       "<Figure size 432x288 with 1 Axes>"
      ]
     },
     "metadata": {
      "needs_background": "light"
     },
     "output_type": "display_data"
    },
    {
     "name": "stdout",
     "output_type": "stream",
     "text": [
      "        SEX  RATIO\n",
      "male    577 64.759\n",
      "female  314 35.241\n",
      "\n",
      "##################################################\n",
      "\n"
     ]
    },
    {
     "data": {
      "image/png": "[encoded data removed]",
      "text/plain": [
       "<Figure size 432x288 with 1 Axes>"
      ]
     },
     "metadata": {
      "needs_background": "light"
     },
     "output_type": "display_data"
    },
    {
     "name": "stdout",
     "output_type": "stream",
     "text": [
      "                  TICKET  RATIO\n",
      "CA. 2343               7  0.786\n",
      "1601                   7  0.786\n",
      "347082                 7  0.786\n",
      "347088                 6  0.673\n",
      "3101295                6  0.673\n",
      "...                  ...    ...\n",
      "315151                 1  0.112\n",
      "364500                 1  0.112\n",
      "C.A. 24580             1  0.112\n",
      "STON/O2. 3101283       1  0.112\n",
      "3101298                1  0.112\n",
      "\n",
      "[681 rows x 2 columns]\n",
      "\n",
      "##################################################\n",
      "\n"
     ]
    },
    {
     "data": {
      "image/png": "[encoded data removed]",
      "text/plain": [
       "<Figure size 432x288 with 1 Axes>"
      ]
     },
     "metadata": {
      "needs_background": "light"
     },
     "output_type": "display_data"
    },
    {
     "name": "stdout",
     "output_type": "stream",
     "text": [
      "             CABIN  RATIO\n",
      "G6               4  0.449\n",
      "C23 C25 C27      4  0.449\n",
      "B96 B98          4  0.449\n",
      "F2               3  0.337\n",
      "C22 C26          3  0.337\n",
      "...            ...    ...\n",
      "C103             1  0.112\n",
      "B101             1  0.112\n",
      "B82 B84          1  0.112\n",
      "E38              1  0.112\n",
      "B73              1  0.112\n",
      "\n",
      "[147 rows x 2 columns]\n",
      "\n",
      "##################################################\n",
      "\n"
     ]
    },
    {
     "data": {
      "image/png": "[encoded data removed]",
      "text/plain": [
       "<Figure size 432x288 with 1 Axes>"
      ]
     },
     "metadata": {
      "needs_background": "light"
     },
     "output_type": "display_data"
    },
    {
     "name": "stdout",
     "output_type": "stream",
     "text": [
      "   EMBARKED  RATIO\n",
      "S       644 72.278\n",
      "C       168 18.855\n",
      "Q        77  8.642\n",
      "\n",
      "##################################################\n",
      "\n"
     ]
    },
    {
     "data": {
      "image/png": "[encoded data removed]",
      "text/plain": [
       "<Figure size 432x288 with 1 Axes>"
      ]
     },
     "metadata": {
      "needs_background": "light"
     },
     "output_type": "display_data"
    },
    {
     "name": "stdout",
     "output_type": "stream",
     "text": [
      "   SURVIVED  RATIO\n",
      "0       549 61.616\n",
      "1       342 38.384\n",
      "\n",
      "##################################################\n",
      "\n"
     ]
    },
    {
     "data": {
      "image/png": "[encoded data removed]",
      "text/plain": [
       "<Figure size 432x288 with 1 Axes>"
      ]
     },
     "metadata": {
      "needs_background": "light"
     },
     "output_type": "display_data"
    },
    {
     "name": "stdout",
     "output_type": "stream",
     "text": [
      "   PCLASS  RATIO\n",
      "3     491 55.107\n",
      "1     216 24.242\n",
      "2     184 20.651\n",
      "\n",
      "##################################################\n",
      "\n"
     ]
    },
    {
     "data": {
      "image/png": "[encoded data removed]",
      "text/plain": [
       "<Figure size 432x288 with 1 Axes>"
      ]
     },
     "metadata": {
      "needs_background": "light"
     },
     "output_type": "display_data"
    },
    {
     "name": "stdout",
     "output_type": "stream",
     "text": [
      "   SIBSP  RATIO\n",
      "0    608 68.238\n",
      "1    209 23.457\n",
      "2     28  3.143\n",
      "4     18  2.020\n",
      "3     16  1.796\n",
      "8      7  0.786\n",
      "5      5  0.561\n",
      "\n",
      "##################################################\n",
      "\n"
     ]
    },
    {
     "data": {
      "image/png": "[encoded data removed]",
      "text/plain": [
       "<Figure size 432x288 with 1 Axes>"
      ]
     },
     "metadata": {
      "needs_background": "light"
     },
     "output_type": "display_data"
    },
    {
     "name": "stdout",
     "output_type": "stream",
     "text": [
      "   PARCH  RATIO\n",
      "0    678 76.094\n",
      "1    118 13.244\n",
      "2     80  8.979\n",
      "3      5  0.561\n",
      "5      5  0.561\n",
      "4      4  0.449\n",
      "6      1  0.112\n",
      "\n",
      "##################################################\n",
      "\n"
     ]
    },
    {
     "data": {
      "image/png": "[encoded data removed]",
      "text/plain": [
       "<Figure size 432x288 with 1 Axes>"
      ]
     },
     "metadata": {
      "needs_background": "light"
     },
     "output_type": "display_data"
    }
   ],
   "source": [
    "for cat in cat_cols:\n",
    "    cat_summary(df , cat, plot = True)"
   ]
  },
  {
   "cell_type": "code",
   "execution_count": 12,
   "id": "worldwide-proportion",
   "metadata": {},
   "outputs": [
    {
     "name": "stdout",
     "output_type": "stream",
     "text": [
      "              count    mean     std   min     5%    10%     20%     30%     40%     50%     60%     70%     80%     90%     95%     99%     max\n",
      "PassengerId 891.000 446.000 257.354 1.000 45.500 90.000 179.000 268.000 357.000 446.000 535.000 624.000 713.000 802.000 846.500 882.100 891.000\n",
      "Survived    891.000   0.384   0.487 0.000  0.000  0.000   0.000   0.000   0.000   0.000   0.000   1.000   1.000   1.000   1.000   1.000   1.000\n",
      "Pclass      891.000   2.309   0.836 1.000  1.000  1.000   1.000   2.000   2.000   3.000   3.000   3.000   3.000   3.000   3.000   3.000   3.000\n",
      "Age         714.000  29.699  14.526 0.420  4.000 14.000  19.000  22.000  25.000  28.000  31.800  36.000  41.000  50.000  56.000  65.870  80.000\n",
      "SibSp       891.000   0.523   1.103 0.000  0.000  0.000   0.000   0.000   0.000   0.000   0.000   1.000   1.000   1.000   3.000   5.000   8.000\n",
      "Parch       891.000   0.382   0.806 0.000  0.000  0.000   0.000   0.000   0.000   0.000   0.000   0.000   1.000   2.000   2.000   4.000   6.000\n",
      "Fare        891.000  32.204  49.693 0.000  7.225  7.550   7.854   8.050  10.500  14.454  21.679  27.000  39.688  77.958 112.079 249.006 512.329\n",
      "\n",
      "##################################################\n",
      "\n"
     ]
    },
    {
     "data": {
      "image/png": "[encoded data removed]",
      "text/plain": [
       "<Figure size 432x288 with 1 Axes>"
      ]
     },
     "metadata": {
      "needs_background": "light"
     },
     "output_type": "display_data"
    },
    {
     "name": "stdout",
     "output_type": "stream",
     "text": [
      "              count    mean     std   min     5%    10%     20%     30%     40%     50%     60%     70%     80%     90%     95%     99%     max\n",
      "PassengerId 891.000 446.000 257.354 1.000 45.500 90.000 179.000 268.000 357.000 446.000 535.000 624.000 713.000 802.000 846.500 882.100 891.000\n",
      "Survived    891.000   0.384   0.487 0.000  0.000  0.000   0.000   0.000   0.000   0.000   0.000   1.000   1.000   1.000   1.000   1.000   1.000\n",
      "Pclass      891.000   2.309   0.836 1.000  1.000  1.000   1.000   2.000   2.000   3.000   3.000   3.000   3.000   3.000   3.000   3.000   3.000\n",
      "Age         714.000  29.699  14.526 0.420  4.000 14.000  19.000  22.000  25.000  28.000  31.800  36.000  41.000  50.000  56.000  65.870  80.000\n",
      "SibSp       891.000   0.523   1.103 0.000  0.000  0.000   0.000   0.000   0.000   0.000   0.000   1.000   1.000   1.000   3.000   5.000   8.000\n",
      "Parch       891.000   0.382   0.806 0.000  0.000  0.000   0.000   0.000   0.000   0.000   0.000   0.000   1.000   2.000   2.000   4.000   6.000\n",
      "Fare        891.000  32.204  49.693 0.000  7.225  7.550   7.854   8.050  10.500  14.454  21.679  27.000  39.688  77.958 112.079 249.006 512.329\n",
      "\n",
      "##################################################\n",
      "\n"
     ]
    },
    {
     "data": {
      "image/png": "[encoded data removed]",
      "text/plain": [
       "<Figure size 432x288 with 1 Axes>"
      ]
     },
     "metadata": {
      "needs_background": "light"
     },
     "output_type": "display_data"
    },
    {
     "name": "stdout",
     "output_type": "stream",
     "text": [
      "              count    mean     std   min     5%    10%     20%     30%     40%     50%     60%     70%     80%     90%     95%     99%     max\n",
      "PassengerId 891.000 446.000 257.354 1.000 45.500 90.000 179.000 268.000 357.000 446.000 535.000 624.000 713.000 802.000 846.500 882.100 891.000\n",
      "Survived    891.000   0.384   0.487 0.000  0.000  0.000   0.000   0.000   0.000   0.000   0.000   1.000   1.000   1.000   1.000   1.000   1.000\n",
      "Pclass      891.000   2.309   0.836 1.000  1.000  1.000   1.000   2.000   2.000   3.000   3.000   3.000   3.000   3.000   3.000   3.000   3.000\n",
      "Age         714.000  29.699  14.526 0.420  4.000 14.000  19.000  22.000  25.000  28.000  31.800  36.000  41.000  50.000  56.000  65.870  80.000\n",
      "SibSp       891.000   0.523   1.103 0.000  0.000  0.000   0.000   0.000   0.000   0.000   0.000   1.000   1.000   1.000   3.000   5.000   8.000\n",
      "Parch       891.000   0.382   0.806 0.000  0.000  0.000   0.000   0.000   0.000   0.000   0.000   0.000   1.000   2.000   2.000   4.000   6.000\n",
      "Fare        891.000  32.204  49.693 0.000  7.225  7.550   7.854   8.050  10.500  14.454  21.679  27.000  39.688  77.958 112.079 249.006 512.329\n",
      "\n",
      "##################################################\n",
      "\n"
     ]
    },
    {
     "data": {
      "image/png": "[encoded data removed]",
      "text/plain": [
       "<Figure size 432x288 with 1 Axes>"
      ]
     },
     "metadata": {
      "needs_background": "light"
     },
     "output_type": "display_data"
    }
   ],
   "source": [
    "for num in num_cols:\n",
    "    num_summary(df, num, plot = True)"
   ]
  },
  {
   "cell_type": "code",
   "execution_count": 13,
   "id": "constant-importance",
   "metadata": {},
   "outputs": [
    {
     "data": {
      "image/png": "[encoded data removed]",
      "text/plain": [
       "<Figure size 1080x1080 with 2 Axes>"
      ]
     },
     "metadata": {
      "needs_background": "light"
     },
     "output_type": "display_data"
    },
    {
     "data": {
      "text/plain": [
       "[]"
      ]
     },
     "execution_count": 13,
     "metadata": {},
     "output_type": "execute_result"
    }
   ],
   "source": [
    "high_correlated_cols(df , plot = True)"
   ]
  },
  {
   "cell_type": "code",
   "execution_count": 14,
   "id": "featured-coalition",
   "metadata": {},
   "outputs": [
    {
     "name": "stdout",
     "output_type": "stream",
     "text": [
      "For PASSENGERID Outliers :  There Are Not Outliers\n",
      "For AGE Outliers :  There Are Outliers\n",
      "For FARE Outliers :  There Are Outliers\n"
     ]
    }
   ],
   "source": [
    "for num in num_cols:\n",
    "    print(f\"For {num.upper()} Outliers : \", check_outliers(df, num))"
   ]
  },
  {
   "cell_type": "code",
   "execution_count": 15,
   "id": "familiar-deadline",
   "metadata": {},
   "outputs": [
    {
     "name": "stdout",
     "output_type": "stream",
     "text": [
      "     PassengerId  Survived  Pclass                            Name   Sex    Age  SibSp  Parch      Ticket   Fare Cabin Embarked\n",
      "33            34         0       2           Wheadon, Mr. Edward H  male 66.000      0      0  C.A. 24579 10.500   NaN        S\n",
      "54            55         0       1  Ostby, Mr. Engelhart Cornelius  male 65.000      0      1      113509 61.979   B30        C\n",
      "96            97         0       1       Goldschmidt, Mr. George B  male 71.000      0      0    PC 17754 34.654    A5        C\n",
      "116          117         0       3            Connors, Mr. Patrick  male 70.500      0      0      370369  7.750   NaN        Q\n",
      "280          281         0       3                Duane, Mr. Frank  male 65.000      0      0      336439  7.750   NaN        Q\n"
     ]
    }
   ],
   "source": [
    "grap_outliers(df,\"Age\")"
   ]
  },
  {
   "cell_type": "code",
   "execution_count": 16,
   "id": "historic-detroit",
   "metadata": {},
   "outputs": [
    {
     "name": "stdout",
     "output_type": "stream",
     "text": [
      "    PassengerId  Survived  Pclass                                               Name     Sex    Age  SibSp  Parch    Ticket    Fare        Cabin Embarked\n",
      "1             2         1       1  Cumings, Mrs. John Bradley (Florence Briggs Th...  female 38.000      1      0  PC 17599  71.283          C85        C\n",
      "27           28         0       1                     Fortune, Mr. Charles Alexander    male 19.000      3      2     19950 263.000  C23 C25 C27        S\n",
      "31           32         1       1     Spencer, Mrs. William Augustus (Marie Eugenie)  female    NaN      1      0  PC 17569 146.521          B78        C\n",
      "34           35         0       1                            Meyer, Mr. Edgar Joseph    male 28.000      1      0  PC 17604  82.171          NaN        C\n",
      "52           53         1       1           Harper, Mrs. Henry Sleeper (Myna Haxtun)  female 49.000      1      0  PC 17572  76.729          D33        C\n"
     ]
    }
   ],
   "source": [
    "grap_outliers(df,\"Fare\")"
   ]
  },
  {
   "cell_type": "code",
   "execution_count": 17,
   "id": "hazardous-pierre",
   "metadata": {},
   "outputs": [
    {
     "name": "stdout",
     "output_type": "stream",
     "text": [
      "Empty DataFrame\n",
      "Columns: [PassengerId, Survived, Pclass, Name, Sex, Age, SibSp, Parch, Ticket, Fare, Cabin, Embarked]\n",
      "Index: []\n"
     ]
    }
   ],
   "source": [
    "grap_outliers(df,\"PassengerId\")"
   ]
  },
  {
   "cell_type": "code",
   "execution_count": 18,
   "id": "suspected-kazakhstan",
   "metadata": {},
   "outputs": [
    {
     "name": "stdout",
     "output_type": "stream",
     "text": [
      "          n_miss  ratio\n",
      "Cabin        687 77.104\n",
      "Age          177 19.865\n",
      "Embarked       2  0.224\n",
      "\n"
     ]
    }
   ],
   "source": [
    "na_columns = missing_values_table(df , na_name=True)"
   ]
  },
  {
   "cell_type": "code",
   "execution_count": 19,
   "id": "trying-hindu",
   "metadata": {},
   "outputs": [
    {
     "name": "stdout",
     "output_type": "stream",
     "text": [
      "             TARGET_MEAN  Count\n",
      "Age_NA_FLAG                    \n",
      "0                  0.406    714\n",
      "1                  0.294    177\n",
      "\n",
      "               TARGET_MEAN  Count\n",
      "Cabin_NA_FLAG                    \n",
      "0                    0.667    204\n",
      "1                    0.300    687\n",
      "\n",
      "                  TARGET_MEAN  Count\n",
      "Embarked_NA_FLAG                    \n",
      "0                       0.382    889\n",
      "1                       1.000      2\n",
      "\n"
     ]
    }
   ],
   "source": [
    "missing_vs_target(df , \"Survived\", na_columns = na_columns)"
   ]
  },
  {
   "cell_type": "code",
   "execution_count": 20,
   "id": "disciplinary-union",
   "metadata": {},
   "outputs": [
    {
     "name": "stdout",
     "output_type": "stream",
     "text": [
      "FOR NAME : 891\n",
      "\n",
      "                                       COUNT  RATIO  TARGET_MEAN\n",
      "Abbing, Mr. Anthony                        1  0.001            0\n",
      "Abbott, Mr. Rossmore Edward                1  0.001            0\n",
      "Abbott, Mrs. Stanton (Rosa Hunt)           1  0.001            1\n",
      "Abelson, Mr. Samuel                        1  0.001            0\n",
      "Abelson, Mrs. Samuel (Hannah Wizosky)      1  0.001            1\n",
      "...                                      ...    ...          ...\n",
      "de Mulder, Mr. Theodore                    1  0.001            1\n",
      "de Pelsmaeker, Mr. Alfons                  1  0.001            0\n",
      "del Carlo, Mr. Sebastiano                  1  0.001            0\n",
      "van Billiard, Mr. Austin Blyler            1  0.001            0\n",
      "van Melkebeke, Mr. Philemon                1  0.001            0\n",
      "\n",
      "[891 rows x 3 columns]\n",
      "\n",
      "FOR SEX : 2\n",
      "\n",
      "        COUNT  RATIO  TARGET_MEAN\n",
      "female    314  0.352        0.742\n",
      "male      577  0.648        0.189\n",
      "\n",
      "FOR TICKET : 681\n",
      "\n",
      "             COUNT  RATIO  TARGET_MEAN\n",
      "110152           3  0.003        1.000\n",
      "110413           3  0.003        0.667\n",
      "110465           2  0.002        0.000\n",
      "110564           1  0.001        1.000\n",
      "110813           1  0.001        1.000\n",
      "...            ...    ...          ...\n",
      "W./C. 6608       4  0.004        0.000\n",
      "W./C. 6609       1  0.001        0.000\n",
      "W.E.P. 5734      1  0.001        0.000\n",
      "W/C 14208        1  0.001        0.000\n",
      "WE/P 5735        2  0.002        0.500\n",
      "\n",
      "[681 rows x 3 columns]\n",
      "\n",
      "FOR CABIN : 147\n",
      "\n",
      "     COUNT  RATIO  TARGET_MEAN\n",
      "A10      1  0.001        0.000\n",
      "A14      1  0.001        0.000\n",
      "A16      1  0.001        1.000\n",
      "A19      1  0.001        0.000\n",
      "A20      1  0.001        1.000\n",
      "..     ...    ...          ...\n",
      "F33      3  0.003        1.000\n",
      "F38      1  0.001        0.000\n",
      "F4       2  0.002        1.000\n",
      "G6       4  0.004        0.500\n",
      "T        1  0.001        0.000\n",
      "\n",
      "[147 rows x 3 columns]\n",
      "\n",
      "FOR EMBARKED : 3\n",
      "\n",
      "   COUNT  RATIO  TARGET_MEAN\n",
      "C    168  0.189        0.554\n",
      "Q     77  0.086        0.390\n",
      "S    644  0.723        0.337\n",
      "\n",
      "FOR SURVIVED : 2\n",
      "\n",
      "   COUNT  RATIO  TARGET_MEAN\n",
      "0    549  0.616            0\n",
      "1    342  0.384            1\n",
      "\n",
      "FOR PCLASS : 3\n",
      "\n",
      "   COUNT  RATIO  TARGET_MEAN\n",
      "1    216  0.242        0.630\n",
      "2    184  0.207        0.473\n",
      "3    491  0.551        0.242\n",
      "\n",
      "FOR SIBSP : 7\n",
      "\n",
      "   COUNT  RATIO  TARGET_MEAN\n",
      "0    608  0.682        0.345\n",
      "1    209  0.235        0.536\n",
      "2     28  0.031        0.464\n",
      "3     16  0.018        0.250\n",
      "4     18  0.020        0.167\n",
      "5      5  0.006        0.000\n",
      "8      7  0.008        0.000\n",
      "\n",
      "FOR PARCH : 7\n",
      "\n",
      "   COUNT  RATIO  TARGET_MEAN\n",
      "0    678  0.761        0.344\n",
      "1    118  0.132        0.551\n",
      "2     80  0.090        0.500\n",
      "3      5  0.006        0.600\n",
      "4      4  0.004        0.000\n",
      "5      5  0.006        0.200\n",
      "6      1  0.001        0.000\n",
      "\n"
     ]
    }
   ],
   "source": [
    "rare_analyser(df , \"Survived\", cat_cols)"
   ]
  },
  {
   "cell_type": "code",
   "execution_count": 21,
   "id": "adult-associate",
   "metadata": {},
   "outputs": [],
   "source": [
    "def titanic():\n",
    "    \n",
    "    dataframe = pd.read_csv(\"/Users/gokhanersoz/Desktop/VBO_Dataset/titanic.csv\")\n",
    "    \n",
    "    return dataframe                        \n",
    "\n",
    "df = titanic()\n",
    "\n",
    "def titanic_data_prep(dataframe):\n",
    "    \n",
    "    # 1 - Feature Engineering\n",
    "    \n",
    "    dataframe.columns = [col.upper() for col in dataframe.columns]\n",
    "    \n",
    "    # New Cabin Bool\n",
    "    dataframe[\"NEW_CABIN_BOOL\"] = dataframe[\"CABIN\"].notnull().astype(int)\n",
    "    \n",
    "    # Name Count\n",
    "    dataframe[\"NEW_NAME_COUNT\"] = dataframe[\"NAME\"].str.len()\n",
    "    \n",
    "    # Name Word Count\n",
    "    dataframe[\"NEW_NAME_WORD_COUNT\"] = dataframe[\"NAME\"].apply(lambda name : len(str(name).split(\" \")))\n",
    "    \n",
    "    # Name Dr\n",
    "    dataframe[\"NEW_NAME_DR\"] = dataframe[\"NAME\"].apply(lambda name : len([word for word in name.split(\" \") \\\n",
    "                                                                      if word.startswith(\"Dr.\")]))\n",
    "    \n",
    "    #dataframe[\"NEW_NAME_MR\"] = dataframe[\"NAME\"].apply(lambda name : len([word for word in name.split(\" \") \\\n",
    "    #                                                                  if word.startswith(\"Mr.\")]))\n",
    "    \n",
    "    #dataframe[\"NEW_NAME_MR\"] = dataframe[\"NAME\"].apply(lambda name : len([word for word in name.split(\" \") \\\n",
    "    #                                                                  if word.startswith(\"Mr.\")]))\n",
    "    \n",
    "    #dataframe[\"NEW_NAME_MRS\"] = dataframe[\"NAME\"].apply(lambda name : len([word for word in name.split(\" \") \\\n",
    "    #                                                                  if word.startswith(\"Mrs.\")]))\n",
    "    \n",
    "    #dataframe[\"NEW_NAME_MİSS\"] = dataframe[\"NAME\"].apply(lambda name : len([word for word in name.split(\" \") \\\n",
    "    #                                                                  if word.startswith(\"Miss.\")]))\n",
    "    \n",
    "    dataframe[\"NEW_TITLE\"] = dataframe[\"NAME\"].str.extract( \" ([A-Za-z]+)\\.\", expand = False)\n",
    "    \n",
    "    \n",
    "    # We include ourselves\n",
    "    # Family Size\n",
    "    dataframe[\"NEW_FAMILY_SIZE\"] = dataframe[\"SIBSP\"] + dataframe[\"PARCH\"] + 1\n",
    "    \n",
    "    # New Age PClass\n",
    "    dataframe[\"NEW_AGE_PCLASS\"] = dataframe[\"AGE\"] * dataframe[\"PCLASS\"]\n",
    "    \n",
    "    # Is Alone\n",
    "    dataframe.loc[ (dataframe[\"SIBSP\"] + dataframe[\"PARCH\"] ) > 0, \"NEW_IS_ALONE\"] = \"NO\"\n",
    "    dataframe.loc[ (dataframe[\"SIBSP\"] + dataframe[\"PARCH\"] ) == 0,\"NEW_IS_ALONE\"] = \"YES\"\n",
    "    \n",
    "    # Age_Cat\n",
    "    # Age Level\n",
    "    dataframe.loc[ (dataframe[\"AGE\"] < 18) , \"NEW_AGE_CAT\"] = \"young\"\n",
    "    dataframe.loc[ ((dataframe[\"AGE\"] >= 18) & (dataframe[\"AGE\"] < 56)), \"NEW_AGE_CAT\"] = \"mature\"\n",
    "    dataframe.loc[ (dataframe[\"AGE\"] >= 56), \"NEW_AGE_CAT\"] = \"senior\"\n",
    "    \n",
    "    \n",
    "    # Sex X Age\n",
    "    # Sex - Male\n",
    "    dataframe.loc[ ((dataframe[\"SEX\"] == \"male\") & (dataframe[\"AGE\"] <= 21)) ,\"NEW_SEX_CAT\"] = \"youngmale\"\n",
    "    dataframe.loc[ ((dataframe[\"SEX\"] == \"male\") & ((dataframe[\"AGE\"] > 21) & (dataframe[\"AGE\"] < 50))) , \\\n",
    "                                                                              \"NEW_SEX_CAT\"] = \"maturemale\"\n",
    "    dataframe.loc[ ((dataframe[\"SEX\"] == \"male\") & (dataframe[\"AGE\"] >= 50)) ,\"NEW_SEX_CAT\"] = \"seniormale\"\n",
    "    \n",
    "    # Sex - Female\n",
    "    dataframe.loc[ ((dataframe[\"SEX\"] == \"female\") & (dataframe[\"AGE\"] <= 21)) ,\"NEW_SEX_CAT\"] = \"youngfemale\"\n",
    "    dataframe.loc[ ((dataframe[\"SEX\"] == \"female\") & ((dataframe[\"AGE\"] > 21) & (dataframe[\"AGE\"] < 50))) , \\\n",
    "                                                                              \"NEW_SEX_CAT\"] = \"maturefemale\"\n",
    "    dataframe.loc[ ((dataframe[\"SEX\"] == \"female\") & (dataframe[\"AGE\"] >= 50)) ,\"NEW_SEX_CAT\"] = \"seniorfemale\"\n",
    "    \n",
    "    \n",
    "    # 2- We caught the variables!!!\n",
    "    \n",
    "    cat_cols , num_cols , cat_but_car = grab_col_names(dataframe, details = True)\n",
    "    \n",
    "    num_cols = [col for col in num_cols if \"PASSENGERID\" not in col]\n",
    "    \n",
    "    # We destroyed outliers !!!!\n",
    "    \n",
    "    for col in num_cols:\n",
    "        replace_with_thresholds(dataframe,col)\n",
    "        \n",
    "    #dataframe.drop(\"CABIN\", inplace = True, axis = 1)\n",
    "    \n",
    "    # Remove unnecessary columns\n",
    "    \n",
    "    remove_cols = [\"TICKET\",\"NAME\",\"CABIN\"]\n",
    "    dataframe.drop(remove_cols , inplace = True , axis = 1)\n",
    "    \n",
    "    # We Filled In The Missing Values\n",
    "    \n",
    "    dataframe[\"AGE\"] = dataframe[\"AGE\"].fillna(dataframe.groupby(\"NEW_TITLE\")[\"AGE\"].transform(\"median\"))\n",
    "    \n",
    "    #missing_values_table(dataframe)\n",
    "    \n",
    "    dataframe[\"NEW_AGE_PCLASS\"] = dataframe[\"AGE\"] * dataframe[\"PCLASS\"]\n",
    "    \n",
    "    # Age_Level\n",
    "    # Age_Cat\n",
    "    \n",
    "    dataframe.loc[ (dataframe[\"AGE\"] < 18) , \"NEW_AGE_CAT\"] = \"young\"\n",
    "    dataframe.loc[ ((dataframe[\"AGE\"] >= 18) & (dataframe[\"AGE\"] < 56)), \"NEW_AGE_CAT\"] = \"mature\"\n",
    "    dataframe.loc[ (dataframe[\"AGE\"] >= 56), \"NEW_AGE_CAT\"] = \"senior\"\n",
    "    \n",
    "    # Sex X Age\n",
    "    # Sex - Male\n",
    "    dataframe.loc[ ((dataframe[\"SEX\"] == \"male\") & (dataframe[\"AGE\"] <= 21)) ,\"NEW_SEX_CAT\"] = \"youngmale\"\n",
    "    dataframe.loc[ ((dataframe[\"SEX\"] == \"male\") & ((dataframe[\"AGE\"] > 21) & (dataframe[\"AGE\"] < 50))) , \\\n",
    "                                                                              \"NEW_SEX_CAT\"] = \"maturemale\"\n",
    "    dataframe.loc[ ((dataframe[\"SEX\"] == \"male\") & (dataframe[\"AGE\"] >= 50)) ,\"NEW_SEX_CAT\"] = \"seniormale\"\n",
    "    \n",
    "    # Sex - Female\n",
    "    dataframe.loc[ ((dataframe[\"SEX\"] == \"female\") & (dataframe[\"AGE\"] <= 21)) ,\"NEW_SEX_CAT\"] = \"youngfemale\"\n",
    "    dataframe.loc[ ((dataframe[\"SEX\"] == \"female\") & ((dataframe[\"AGE\"] > 21) & (dataframe[\"AGE\"] < 50))) , \\\n",
    "                                                                              \"NEW_SEX_CAT\"] = \"maturefemale\"\n",
    "    dataframe.loc[ ((dataframe[\"SEX\"] == \"female\") & (dataframe[\"AGE\"] >= 50)) ,\"NEW_SEX_CAT\"] = \"seniorfemale\"\n",
    "    \n",
    "    # We Filled In The Missing Values\n",
    "    dataframe[\"EMBARKED\"] = dataframe[\"EMBARKED\"].fillna(dataframe[\"EMBARKED\"].mode()[0])\n",
    "    \n",
    "    cat_cols ,num_cols, cat_but_car = grab_col_names(dataframe)\n",
    "    \n",
    "    for num in num_cols:\n",
    "        replace_with_thresholds(dataframe, num)\n",
    "    \n",
    "    # 4- Label Encoding Application\n",
    "    binary_cols = [col for col in dataframe.columns if dataframe[col].dtype not in [np.int64 ,np.float64]\n",
    "                   and dataframe[col].nunique() == 2 ]\n",
    "    \n",
    "    #print(binary_cols)\n",
    "    for binary in binary_cols:\n",
    "        dataframe = label_encoder(dataframe, binary)\n",
    "      \n",
    "    # 5- Rare Encoding Application\n",
    "    dataframe = rare_encoder(dataframe,0.01)\n",
    "    \n",
    "    # 6- One-Hot Encoding Application\n",
    "    \n",
    "    #ohe_cols = [col for col in dataframe.columns if 10 >= dataframe[col].nunique() > 2]\n",
    "    \n",
    "    cat_cols , num_cols, cat_but_car = grab_col_names(dataframe)\n",
    "    \n",
    "    \n",
    "    cat_cols = [col for col in cat_cols if col not in \"SURVIVED\"]\n",
    "        \n",
    "    dataframe = one_hot_encoder(dataframe, cat_cols)\n",
    "    \n",
    "    #7- The process of deleting useless columns\n",
    "    \n",
    "    num_cols = [col for col in num_cols if \"PASSENGERID\" not in col]\n",
    "    \n",
    "    useless_cols = [col for col in dataframe.columns if dataframe[col].nunique() == 2 and\n",
    "                    (dataframe[col].value_counts() / len(dataframe) < 0.01).any(axis = None)]\n",
    "    \n",
    "    #print(useless_cols)\n",
    "    \n",
    "    dataframe.drop(useless_cols, axis = 1, inplace = True)\n",
    "    \n",
    "    dataframe.drop(\"PASSENGERID\",inplace = True , axis = 1)\n",
    "    \n",
    "    #8- Standart Scaler\n",
    "    \n",
    "    scaler = StandardScaler()\n",
    "    dataframe[num_cols] = scaler.fit_transform(dataframe[num_cols])\n",
    "    \n",
    "    return dataframe ,scaler"
   ]
  },
  {
   "cell_type": "code",
   "execution_count": 22,
   "id": "heard-chapel",
   "metadata": {
    "scrolled": true
   },
   "outputs": [
    {
     "name": "stdout",
     "output_type": "stream",
     "text": [
      "Observations : 891\n",
      "Variables : 22\n",
      "Cat Cols : 17\n",
      "Num Cols : 5\n",
      "Cat But Car : 3\n",
      "Num But Cat : 8\n"
     ]
    }
   ],
   "source": [
    "titanic, scaler = titanic_data_prep(df)"
   ]
  },
  {
   "cell_type": "code",
   "execution_count": 23,
   "id": "seeing-yugoslavia",
   "metadata": {},
   "outputs": [
    {
     "data": {
      "text/html": [
       "<div>\n",
       "<style scoped>\n",
       "    .dataframe tbody tr th:only-of-type {\n",
       "        vertical-align: middle;\n",
       "    }\n",
       "\n",
       "    .dataframe tbody tr th {\n",
       "        vertical-align: top;\n",
       "    }\n",
       "\n",
       "    .dataframe thead th {\n",
       "        text-align: right;\n",
       "    }\n",
       "</style>\n",
       "<table border=\"1\" class=\"dataframe\">\n",
       "  <thead>\n",
       "    <tr style=\"text-align: right;\">\n",
       "      <th></th>\n",
       "      <th>SURVIVED</th>\n",
       "      <th>AGE</th>\n",
       "      <th>FARE</th>\n",
       "      <th>NEW_NAME_COUNT</th>\n",
       "      <th>NEW_AGE_PCLASS</th>\n",
       "      <th>EMBARKED_C</th>\n",
       "      <th>EMBARKED_Q</th>\n",
       "      <th>EMBARKED_S</th>\n",
       "      <th>NEW_TITLE_Master</th>\n",
       "      <th>NEW_TITLE_Miss</th>\n",
       "      <th>NEW_TITLE_Mr</th>\n",
       "      <th>NEW_TITLE_Mrs</th>\n",
       "      <th>NEW_TITLE_Rare</th>\n",
       "      <th>NEW_AGE_CAT_mature</th>\n",
       "      <th>NEW_AGE_CAT_senior</th>\n",
       "      <th>NEW_AGE_CAT_young</th>\n",
       "      <th>NEW_SEX_CAT_maturefemale</th>\n",
       "      <th>NEW_SEX_CAT_maturemale</th>\n",
       "      <th>NEW_SEX_CAT_seniorfemale</th>\n",
       "      <th>NEW_SEX_CAT_seniormale</th>\n",
       "      <th>NEW_SEX_CAT_youngfemale</th>\n",
       "      <th>NEW_SEX_CAT_youngmale</th>\n",
       "      <th>PCLASS_1</th>\n",
       "      <th>PCLASS_2</th>\n",
       "      <th>PCLASS_3</th>\n",
       "      <th>SEX_0</th>\n",
       "      <th>SEX_1</th>\n",
       "      <th>SIBSP_0</th>\n",
       "      <th>SIBSP_1</th>\n",
       "      <th>SIBSP_2</th>\n",
       "      <th>SIBSP_3</th>\n",
       "      <th>SIBSP_4</th>\n",
       "      <th>PARCH_0</th>\n",
       "      <th>PARCH_1</th>\n",
       "      <th>PARCH_2</th>\n",
       "      <th>NEW_CABIN_BOOL_0</th>\n",
       "      <th>NEW_CABIN_BOOL_1</th>\n",
       "      <th>NEW_NAME_WORD_COUNT_3</th>\n",
       "      <th>NEW_NAME_WORD_COUNT_4</th>\n",
       "      <th>NEW_NAME_WORD_COUNT_5</th>\n",
       "      <th>NEW_NAME_WORD_COUNT_6</th>\n",
       "      <th>NEW_NAME_WORD_COUNT_7</th>\n",
       "      <th>NEW_NAME_WORD_COUNT_8</th>\n",
       "      <th>NEW_FAMILY_SIZE_1</th>\n",
       "      <th>NEW_FAMILY_SIZE_2</th>\n",
       "      <th>NEW_FAMILY_SIZE_3</th>\n",
       "      <th>NEW_FAMILY_SIZE_4</th>\n",
       "      <th>NEW_FAMILY_SIZE_5</th>\n",
       "      <th>NEW_FAMILY_SIZE_6</th>\n",
       "      <th>NEW_FAMILY_SIZE_7</th>\n",
       "      <th>NEW_IS_ALONE_0</th>\n",
       "      <th>NEW_IS_ALONE_1</th>\n",
       "    </tr>\n",
       "  </thead>\n",
       "  <tbody>\n",
       "    <tr>\n",
       "      <th>0</th>\n",
       "      <td>0</td>\n",
       "      <td>-0.566</td>\n",
       "      <td>-0.821</td>\n",
       "      <td>-0.437</td>\n",
       "      <td>0.073</td>\n",
       "      <td>0</td>\n",
       "      <td>0</td>\n",
       "      <td>1</td>\n",
       "      <td>0</td>\n",
       "      <td>0</td>\n",
       "      <td>1</td>\n",
       "      <td>0</td>\n",
       "      <td>0</td>\n",
       "      <td>1</td>\n",
       "      <td>0</td>\n",
       "      <td>0</td>\n",
       "      <td>0</td>\n",
       "      <td>1</td>\n",
       "      <td>0</td>\n",
       "      <td>0</td>\n",
       "      <td>0</td>\n",
       "      <td>0</td>\n",
       "      <td>0</td>\n",
       "      <td>0</td>\n",
       "      <td>1</td>\n",
       "      <td>0</td>\n",
       "      <td>1</td>\n",
       "      <td>0</td>\n",
       "      <td>1</td>\n",
       "      <td>0</td>\n",
       "      <td>0</td>\n",
       "      <td>0</td>\n",
       "      <td>1</td>\n",
       "      <td>0</td>\n",
       "      <td>0</td>\n",
       "      <td>1</td>\n",
       "      <td>0</td>\n",
       "      <td>0</td>\n",
       "      <td>1</td>\n",
       "      <td>0</td>\n",
       "      <td>0</td>\n",
       "      <td>0</td>\n",
       "      <td>0</td>\n",
       "      <td>0</td>\n",
       "      <td>1</td>\n",
       "      <td>0</td>\n",
       "      <td>0</td>\n",
       "      <td>0</td>\n",
       "      <td>0</td>\n",
       "      <td>0</td>\n",
       "      <td>1</td>\n",
       "      <td>0</td>\n",
       "    </tr>\n",
       "    <tr>\n",
       "      <th>1</th>\n",
       "      <td>1</td>\n",
       "      <td>0.709</td>\n",
       "      <td>2.032</td>\n",
       "      <td>2.248</td>\n",
       "      <td>-0.799</td>\n",
       "      <td>1</td>\n",
       "      <td>0</td>\n",
       "      <td>0</td>\n",
       "      <td>0</td>\n",
       "      <td>0</td>\n",
       "      <td>0</td>\n",
       "      <td>1</td>\n",
       "      <td>0</td>\n",
       "      <td>1</td>\n",
       "      <td>0</td>\n",
       "      <td>0</td>\n",
       "      <td>1</td>\n",
       "      <td>0</td>\n",
       "      <td>0</td>\n",
       "      <td>0</td>\n",
       "      <td>0</td>\n",
       "      <td>0</td>\n",
       "      <td>1</td>\n",
       "      <td>0</td>\n",
       "      <td>0</td>\n",
       "      <td>1</td>\n",
       "      <td>0</td>\n",
       "      <td>0</td>\n",
       "      <td>1</td>\n",
       "      <td>0</td>\n",
       "      <td>0</td>\n",
       "      <td>0</td>\n",
       "      <td>1</td>\n",
       "      <td>0</td>\n",
       "      <td>0</td>\n",
       "      <td>0</td>\n",
       "      <td>1</td>\n",
       "      <td>0</td>\n",
       "      <td>0</td>\n",
       "      <td>0</td>\n",
       "      <td>0</td>\n",
       "      <td>1</td>\n",
       "      <td>0</td>\n",
       "      <td>0</td>\n",
       "      <td>1</td>\n",
       "      <td>0</td>\n",
       "      <td>0</td>\n",
       "      <td>0</td>\n",
       "      <td>0</td>\n",
       "      <td>0</td>\n",
       "      <td>1</td>\n",
       "      <td>0</td>\n",
       "    </tr>\n",
       "    <tr>\n",
       "      <th>2</th>\n",
       "      <td>1</td>\n",
       "      <td>-0.248</td>\n",
       "      <td>-0.788</td>\n",
       "      <td>-0.559</td>\n",
       "      <td>0.446</td>\n",
       "      <td>0</td>\n",
       "      <td>0</td>\n",
       "      <td>1</td>\n",
       "      <td>0</td>\n",
       "      <td>1</td>\n",
       "      <td>0</td>\n",
       "      <td>0</td>\n",
       "      <td>0</td>\n",
       "      <td>1</td>\n",
       "      <td>0</td>\n",
       "      <td>0</td>\n",
       "      <td>1</td>\n",
       "      <td>0</td>\n",
       "      <td>0</td>\n",
       "      <td>0</td>\n",
       "      <td>0</td>\n",
       "      <td>0</td>\n",
       "      <td>0</td>\n",
       "      <td>0</td>\n",
       "      <td>1</td>\n",
       "      <td>1</td>\n",
       "      <td>0</td>\n",
       "      <td>1</td>\n",
       "      <td>0</td>\n",
       "      <td>0</td>\n",
       "      <td>0</td>\n",
       "      <td>0</td>\n",
       "      <td>1</td>\n",
       "      <td>0</td>\n",
       "      <td>0</td>\n",
       "      <td>1</td>\n",
       "      <td>0</td>\n",
       "      <td>1</td>\n",
       "      <td>0</td>\n",
       "      <td>0</td>\n",
       "      <td>0</td>\n",
       "      <td>0</td>\n",
       "      <td>0</td>\n",
       "      <td>1</td>\n",
       "      <td>0</td>\n",
       "      <td>0</td>\n",
       "      <td>0</td>\n",
       "      <td>0</td>\n",
       "      <td>0</td>\n",
       "      <td>0</td>\n",
       "      <td>0</td>\n",
       "      <td>1</td>\n",
       "    </tr>\n",
       "    <tr>\n",
       "      <th>3</th>\n",
       "      <td>1</td>\n",
       "      <td>0.470</td>\n",
       "      <td>1.419</td>\n",
       "      <td>2.126</td>\n",
       "      <td>-0.893</td>\n",
       "      <td>0</td>\n",
       "      <td>0</td>\n",
       "      <td>1</td>\n",
       "      <td>0</td>\n",
       "      <td>0</td>\n",
       "      <td>0</td>\n",
       "      <td>1</td>\n",
       "      <td>0</td>\n",
       "      <td>1</td>\n",
       "      <td>0</td>\n",
       "      <td>0</td>\n",
       "      <td>1</td>\n",
       "      <td>0</td>\n",
       "      <td>0</td>\n",
       "      <td>0</td>\n",
       "      <td>0</td>\n",
       "      <td>0</td>\n",
       "      <td>1</td>\n",
       "      <td>0</td>\n",
       "      <td>0</td>\n",
       "      <td>1</td>\n",
       "      <td>0</td>\n",
       "      <td>0</td>\n",
       "      <td>1</td>\n",
       "      <td>0</td>\n",
       "      <td>0</td>\n",
       "      <td>0</td>\n",
       "      <td>1</td>\n",
       "      <td>0</td>\n",
       "      <td>0</td>\n",
       "      <td>0</td>\n",
       "      <td>1</td>\n",
       "      <td>0</td>\n",
       "      <td>0</td>\n",
       "      <td>0</td>\n",
       "      <td>0</td>\n",
       "      <td>1</td>\n",
       "      <td>0</td>\n",
       "      <td>0</td>\n",
       "      <td>1</td>\n",
       "      <td>0</td>\n",
       "      <td>0</td>\n",
       "      <td>0</td>\n",
       "      <td>0</td>\n",
       "      <td>0</td>\n",
       "      <td>1</td>\n",
       "      <td>0</td>\n",
       "    </tr>\n",
       "    <tr>\n",
       "      <th>4</th>\n",
       "      <td>0</td>\n",
       "      <td>0.470</td>\n",
       "      <td>-0.781</td>\n",
       "      <td>-0.315</td>\n",
       "      <td>1.287</td>\n",
       "      <td>0</td>\n",
       "      <td>0</td>\n",
       "      <td>1</td>\n",
       "      <td>0</td>\n",
       "      <td>0</td>\n",
       "      <td>1</td>\n",
       "      <td>0</td>\n",
       "      <td>0</td>\n",
       "      <td>1</td>\n",
       "      <td>0</td>\n",
       "      <td>0</td>\n",
       "      <td>0</td>\n",
       "      <td>1</td>\n",
       "      <td>0</td>\n",
       "      <td>0</td>\n",
       "      <td>0</td>\n",
       "      <td>0</td>\n",
       "      <td>0</td>\n",
       "      <td>0</td>\n",
       "      <td>1</td>\n",
       "      <td>0</td>\n",
       "      <td>1</td>\n",
       "      <td>1</td>\n",
       "      <td>0</td>\n",
       "      <td>0</td>\n",
       "      <td>0</td>\n",
       "      <td>0</td>\n",
       "      <td>1</td>\n",
       "      <td>0</td>\n",
       "      <td>0</td>\n",
       "      <td>1</td>\n",
       "      <td>0</td>\n",
       "      <td>0</td>\n",
       "      <td>1</td>\n",
       "      <td>0</td>\n",
       "      <td>0</td>\n",
       "      <td>0</td>\n",
       "      <td>0</td>\n",
       "      <td>1</td>\n",
       "      <td>0</td>\n",
       "      <td>0</td>\n",
       "      <td>0</td>\n",
       "      <td>0</td>\n",
       "      <td>0</td>\n",
       "      <td>0</td>\n",
       "      <td>0</td>\n",
       "      <td>1</td>\n",
       "    </tr>\n",
       "  </tbody>\n",
       "</table>\n",
       "</div>"
      ],
      "text/plain": [
       "   SURVIVED    AGE   FARE  NEW_NAME_COUNT  NEW_AGE_PCLASS  EMBARKED_C  EMBARKED_Q  EMBARKED_S  NEW_TITLE_Master  NEW_TITLE_Miss  NEW_TITLE_Mr  NEW_TITLE_Mrs  NEW_TITLE_Rare  NEW_AGE_CAT_mature  \\\n",
       "0         0 -0.566 -0.821          -0.437           0.073           0           0           1                 0               0             1              0               0                   1   \n",
       "1         1  0.709  2.032           2.248          -0.799           1           0           0                 0               0             0              1               0                   1   \n",
       "2         1 -0.248 -0.788          -0.559           0.446           0           0           1                 0               1             0              0               0                   1   \n",
       "3         1  0.470  1.419           2.126          -0.893           0           0           1                 0               0             0              1               0                   1   \n",
       "4         0  0.470 -0.781          -0.315           1.287           0           0           1                 0               0             1              0               0                   1   \n",
       "\n",
       "   NEW_AGE_CAT_senior  NEW_AGE_CAT_young  NEW_SEX_CAT_maturefemale  NEW_SEX_CAT_maturemale  NEW_SEX_CAT_seniorfemale  NEW_SEX_CAT_seniormale  NEW_SEX_CAT_youngfemale  NEW_SEX_CAT_youngmale  \\\n",
       "0                   0                  0                         0                       1                         0                       0                        0                      0   \n",
       "1                   0                  0                         1                       0                         0                       0                        0                      0   \n",
       "2                   0                  0                         1                       0                         0                       0                        0                      0   \n",
       "3                   0                  0                         1                       0                         0                       0                        0                      0   \n",
       "4                   0                  0                         0                       1                         0                       0                        0                      0   \n",
       "\n",
       "   PCLASS_1  PCLASS_2  PCLASS_3  SEX_0  SEX_1  SIBSP_0  SIBSP_1  SIBSP_2  SIBSP_3  SIBSP_4  PARCH_0  PARCH_1  PARCH_2  NEW_CABIN_BOOL_0  NEW_CABIN_BOOL_1  NEW_NAME_WORD_COUNT_3  \\\n",
       "0         0         0         1      0      1        0        1        0        0        0        1        0        0                 1                 0                      0   \n",
       "1         1         0         0      1      0        0        1        0        0        0        1        0        0                 0                 1                      0   \n",
       "2         0         0         1      1      0        1        0        0        0        0        1        0        0                 1                 0                      1   \n",
       "3         1         0         0      1      0        0        1        0        0        0        1        0        0                 0                 1                      0   \n",
       "4         0         0         1      0      1        1        0        0        0        0        1        0        0                 1                 0                      0   \n",
       "\n",
       "   NEW_NAME_WORD_COUNT_4  NEW_NAME_WORD_COUNT_5  NEW_NAME_WORD_COUNT_6  NEW_NAME_WORD_COUNT_7  NEW_NAME_WORD_COUNT_8  NEW_FAMILY_SIZE_1  NEW_FAMILY_SIZE_2  NEW_FAMILY_SIZE_3  NEW_FAMILY_SIZE_4  \\\n",
       "0                      1                      0                      0                      0                      0                  0                  1                  0                  0   \n",
       "1                      0                      0                      0                      1                      0                  0                  1                  0                  0   \n",
       "2                      0                      0                      0                      0                      0                  1                  0                  0                  0   \n",
       "3                      0                      0                      0                      1                      0                  0                  1                  0                  0   \n",
       "4                      1                      0                      0                      0                      0                  1                  0                  0                  0   \n",
       "\n",
       "   NEW_FAMILY_SIZE_5  NEW_FAMILY_SIZE_6  NEW_FAMILY_SIZE_7  NEW_IS_ALONE_0  NEW_IS_ALONE_1  \n",
       "0                  0                  0                  0               1               0  \n",
       "1                  0                  0                  0               1               0  \n",
       "2                  0                  0                  0               0               1  \n",
       "3                  0                  0                  0               1               0  \n",
       "4                  0                  0                  0               0               1  "
      ]
     },
     "execution_count": 23,
     "metadata": {},
     "output_type": "execute_result"
    }
   ],
   "source": [
    "titanic.head()"
   ]
  },
  {
   "cell_type": "code",
   "execution_count": 24,
   "id": "apparent-clerk",
   "metadata": {},
   "outputs": [],
   "source": [
    "import pickle\n",
    "\n",
    "pd.to_pickle(titanic, open(\"titanic_prep.pkl\", \"wb\"))\n",
    "pd.to_pickle(scaler, open(\"scaler_titanic.pkl\", \"wb\"))"
   ]
  },
  {
   "cell_type": "markdown",
   "id": "champion-working",
   "metadata": {},
   "source": [
    "## Model"
   ]
  },
  {
   "cell_type": "code",
   "execution_count": 25,
   "id": "expanded-anthony",
   "metadata": {},
   "outputs": [],
   "source": [
    "from sklearn.linear_model import LogisticRegression\n",
    "from sklearn.model_selection import cross_validate,GridSearchCV"
   ]
  },
  {
   "cell_type": "code",
   "execution_count": 26,
   "id": "robust-montana",
   "metadata": {},
   "outputs": [
    {
     "name": "stdout",
     "output_type": "stream",
     "text": [
      "X DataFrame Shape : (891, 51)\n",
      "Y DataFrame Shape : (891,)\n"
     ]
    }
   ],
   "source": [
    "X = titanic.drop(\"SURVIVED\",axis = 1)\n",
    "y = titanic[\"SURVIVED\"]\n",
    "\n",
    "print(\"X DataFrame Shape : {}\".format(X.shape))\n",
    "print(\"Y DataFrame Shape : {}\".format(y.shape))"
   ]
  },
  {
   "cell_type": "markdown",
   "id": "south-overhead",
   "metadata": {},
   "source": [
    "# Success Evaluation (Validation) with Holdout Method"
   ]
  },
  {
   "cell_type": "code",
   "execution_count": 27,
   "id": "imported-tennis",
   "metadata": {},
   "outputs": [],
   "source": [
    "from sklearn.metrics import r2_score,recall_score,precision_score,f1_score,accuracy_score,roc_auc_score,\\\n",
    "                            classification_report,confusion_matrix,roc_curve\n",
    "\n",
    "from sklearn.model_selection import train_test_split\n",
    "\n",
    "def score_test(model , X , y,roc_auc_plot = True, matrix = True):\n",
    "    \n",
    "    X_train,X_test,y_train,y_test = train_test_split(X, y, test_size =.2, random_state = 18)\n",
    "    \n",
    "    model.fit(X_train, y_train)\n",
    "    \n",
    "    y_pred_test = model.predict(X_test)\n",
    "    y_prob_test = model.predict_proba(X_test)[:,1]\n",
    "    \n",
    "    y_pred_train = model.predict(X_train)\n",
    "    y_prob_train = model.predict_proba(X_train)[:,1]\n",
    "    \n",
    "    print(\"\".center(50,\"#\"),end = \"\\n\\n\")\n",
    "    print(f\" {type(model).__name__.upper()} \".center(50,\"#\"),end = \"\\n\\n\")\n",
    "    print(\" Classification Report \".center(50,\"#\") ,end = \"\\n\\n\")\n",
    "    print(classification_report(y_test, y_pred_test),end = \"\\n\\n\")\n",
    "    \n",
    "    print(\" Confusion Matrix \".center(50,\"#\") ,end = \"\\n\\n\")\n",
    "    index = [[\"actual\",\"actual\"],[\"Died\",\"Alive\"]]\n",
    "    columns = [[\"Predicted\",\"Predicted\"], [\"Died\",\"Alive\"]]\n",
    "    data = confusion_matrix(y_test,y_pred_test)\n",
    "    last_data = pd.DataFrame(data = data , columns = columns, index = index)\n",
    "    print(last_data ,end = \"\\n\\n\")\n",
    "    \n",
    "    \n",
    "    print(\" test scores \".upper().center(50,\"#\"),end = \"\\n\\n\")\n",
    "    print(\" accuracy score : \".upper(), accuracy_score(y_test,y_pred_test) ,end = \"\\n\\n\")\n",
    "    print(\" roc auc score : \".upper(), roc_auc_score(y_test,y_pred_test) ,end = \"\\n\\n\")\n",
    "    print(\" r2 score : \".upper(), r2_score(y_test,y_pred_test) ,end = \"\\n\\n\")\n",
    "    print(\" recall score : \".upper(), recall_score(y_test,y_pred_test) ,end = \"\\n\\n\")\n",
    "    print(\" f1 score : \".upper(), f1_score(y_test,y_pred_test) ,end = \"\\n\\n\")\n",
    "    print(\" precision score : \".upper(), precision_score(y_test,y_pred_test) ,end = \"\\n\\n\")\n",
    "    \n",
    "    print(\"\".center(50,\"#\"),end = \"\\n\\n\")\n",
    "    \n",
    "    if roc_auc_plot:\n",
    "        \n",
    "        size = 15\n",
    "        roc_score = roc_auc_score(y_test, y_prob_test)\n",
    "        \n",
    "        plt.figure(figsize = (7,5))\n",
    "        \n",
    "        fpr,tpr,threshold = roc_curve(y_test, y_prob_test)\n",
    "        plt.plot(fpr,tpr , label = f\"ROC AUC{round(roc_score,4)}\")\n",
    "        plt.plot([0,1],[0,1],\"--r\")\n",
    "        plt.xlabel(\" False Positive Rate \", fontsize = size)\n",
    "        plt.ylabel(\" True Positive Rate \", fontsize = size)\n",
    "        plt.title(\" AUC ( Area : %.3f) \" % roc_score , fontsize = size)\n",
    "        plt.legend()\n",
    "        plt.show();\n",
    "        \n",
    "    if matrix:\n",
    "        \n",
    "        fig,ax = plt.subplots(figsize = (7,5))\n",
    "        \n",
    "        cm = confusion_matrix(y_test , y_pred_test)\n",
    "        \n",
    "        ax = sns.heatmap(data = cm, annot = True, annot_kws= {\"size\" : 25}, fmt = \".4g\", ax = ax,\n",
    "                         cmap = \"rainbow\", linewidths= 3, linecolor= \"white\", cbar = False, center = 0)\n",
    "        \n",
    "        size = 15\n",
    "        plt.xlabel(\" Predicted Label \", fontsize = size)\n",
    "        plt.ylabel(\" True Label \", fontsize = size)\n",
    "        plt.title(f\" Confusion Matrix For {type(model).__name__.upper()} \", fontsize = size)\n",
    "        plt.show()"
   ]
  },
  {
   "cell_type": "code",
   "execution_count": 28,
   "id": "french-brick",
   "metadata": {},
   "outputs": [
    {
     "name": "stdout",
     "output_type": "stream",
     "text": [
      "##################################################\n",
      "\n",
      "############### LOGISTICREGRESSION ###############\n",
      "\n",
      "############# Classification Report ##############\n",
      "\n",
      "              precision    recall  f1-score   support\n",
      "\n",
      "           0       0.92      0.93      0.92       109\n",
      "           1       0.88      0.87      0.88        70\n",
      "\n",
      "    accuracy                           0.91       179\n",
      "   macro avg       0.90      0.90      0.90       179\n",
      "weighted avg       0.90      0.91      0.90       179\n",
      "\n",
      "\n",
      "################ Confusion Matrix ################\n",
      "\n",
      "             Predicted      \n",
      "                  Died Alive\n",
      "actual Died        101     8\n",
      "       Alive         9    61\n",
      "\n",
      "################## TEST SCORES ###################\n",
      "\n",
      " ACCURACY SCORE :  0.9050279329608939\n",
      "\n",
      " ROC AUC SCORE :  0.8990170380078637\n",
      "\n",
      " R2 SCORE :  0.6011795543905636\n",
      "\n",
      " RECALL SCORE :  0.8714285714285714\n",
      "\n",
      " F1 SCORE :  0.8776978417266188\n",
      "\n",
      " PRECISION SCORE :  0.8840579710144928\n",
      "\n",
      "##################################################\n",
      "\n"
     ]
    },
    {
     "data": {
      "image/png": "[encoded data removed]",
      "text/plain": [
       "<Figure size 504x360 with 1 Axes>"
      ]
     },
     "metadata": {
      "needs_background": "light"
     },
     "output_type": "display_data"
    },
    {
     "data": {
      "image/png": "[encoded data removed]",
      "text/plain": [
       "<Figure size 504x360 with 1 Axes>"
      ]
     },
     "metadata": {
      "needs_background": "light"
     },
     "output_type": "display_data"
    }
   ],
   "source": [
    "score_test(LogisticRegression(),X,y)"
   ]
  },
  {
   "cell_type": "markdown",
   "id": "unauthorized-diploma",
   "metadata": {},
   "source": [
    "## Success Evaluation with CV and Hyperparameter Optimization with GridSearchCV"
   ]
  },
  {
   "cell_type": "code",
   "execution_count": 29,
   "id": "interpreted-karaoke",
   "metadata": {},
   "outputs": [],
   "source": [
    "logistic_param_grid = \\\n",
    "   {'penalty' : ['l1', 'l2', 'elasticnet', 'none'],\n",
    "    'C' : np.logspace(-4, 4, 5),\n",
    "    'solver' : ['lbfgs','newton-cg','liblinear','sag','saga'],\n",
    "    'max_iter' : [100, 1000, 2500, 5000]\n",
    "    }\n",
    "\n",
    "models = [ (\"LR\" , LogisticRegression(), logistic_param_grid)]\n"
   ]
  },
  {
   "cell_type": "code",
   "execution_count": 30,
   "id": "cardiovascular-skill",
   "metadata": {},
   "outputs": [],
   "source": [
    "def base_model_regressor(X , y , models ,cv = 5):\n",
    "    \n",
    "    dictinonary = {}\n",
    "    data = pd.DataFrame()\n",
    "    index = 0\n",
    "    \n",
    "    for name,model,params in models:\n",
    "        \n",
    "            results = cross_validate(estimator=model,\n",
    "                                     X = X,\n",
    "                                     y = y,\n",
    "                                     cv = cv,\n",
    "                                     scoring = [\"roc_auc\",\"accuracy\"])\n",
    "            \n",
    "            data.loc[index,\"NAME\"] = name\n",
    "            data.loc[index,\"ROC_AUC\"] = results[\"test_roc_auc\"].mean()\n",
    "            data.loc[index,\"ACCURACY\"] = results[\"test_accuracy\"].mean()\n",
    "            data.loc[index,\"FIT_TIME\"] = results[\"fit_time\"].mean()\n",
    "            data.loc[index,\"SCORE_TIME\"] = results[\"score_time\"].mean()\n",
    "            data = data.set_index(\"NAME\")\n",
    "            \n",
    "    \n",
    "    return data\n",
    "     "
   ]
  },
  {
   "cell_type": "code",
   "execution_count": 31,
   "id": "expanded-mustang",
   "metadata": {},
   "outputs": [
    {
     "data": {
      "text/html": [
       "<div>\n",
       "<style scoped>\n",
       "    .dataframe tbody tr th:only-of-type {\n",
       "        vertical-align: middle;\n",
       "    }\n",
       "\n",
       "    .dataframe tbody tr th {\n",
       "        vertical-align: top;\n",
       "    }\n",
       "\n",
       "    .dataframe thead th {\n",
       "        text-align: right;\n",
       "    }\n",
       "</style>\n",
       "<table border=\"1\" class=\"dataframe\">\n",
       "  <thead>\n",
       "    <tr style=\"text-align: right;\">\n",
       "      <th></th>\n",
       "      <th>ROC_AUC</th>\n",
       "      <th>ACCURACY</th>\n",
       "      <th>FIT_TIME</th>\n",
       "      <th>SCORE_TIME</th>\n",
       "    </tr>\n",
       "    <tr>\n",
       "      <th>NAME</th>\n",
       "      <th></th>\n",
       "      <th></th>\n",
       "      <th></th>\n",
       "      <th></th>\n",
       "    </tr>\n",
       "  </thead>\n",
       "  <tbody>\n",
       "    <tr>\n",
       "      <th>LR</th>\n",
       "      <td>0.865</td>\n",
       "      <td>0.828</td>\n",
       "      <td>0.017</td>\n",
       "      <td>0.003</td>\n",
       "    </tr>\n",
       "  </tbody>\n",
       "</table>\n",
       "</div>"
      ],
      "text/plain": [
       "      ROC_AUC  ACCURACY  FIT_TIME  SCORE_TIME\n",
       "NAME                                         \n",
       "LR      0.865     0.828     0.017       0.003"
      ]
     },
     "execution_count": 31,
     "metadata": {},
     "output_type": "execute_result"
    }
   ],
   "source": [
    "base_model_regressor(X ,y, models, cv = 5)"
   ]
  },
  {
   "cell_type": "code",
   "execution_count": 32,
   "id": "german-opposition",
   "metadata": {},
   "outputs": [],
   "source": [
    "def hyperparameter_optimization(X , y , models, cv = 3):\n",
    "    \n",
    "    models_dict = {}\n",
    "    data = pd.DataFrame()\n",
    "    index = 0\n",
    "    \n",
    "    for name,model,params in models:\n",
    "        \n",
    "        cv_results = cross_validate(estimator=model,\n",
    "                                 X = X,\n",
    "                                 y = y,\n",
    "                                 cv = cv,\n",
    "                                 scoring = [\"roc_auc\",\"accuracy\"])\n",
    "        \n",
    "        roc_auc = cv_results[\"test_roc_auc\"].mean()\n",
    "        accuracy = cv_results[\"test_accuracy\"].mean()\n",
    "        \n",
    "        print(\"\".center(50,\"#\"),end = \"\\n\\n\")\n",
    "        print(f\"For {name.upper()} Before CV :\\n\\nROC AUC : {roc_auc}\\nAccuracy : {accuracy}\",end = \"\\n\\n\")\n",
    "        print(\"\".center(50,\"#\"),end = \"\\n\\n\")\n",
    "            \n",
    "        best_grid = GridSearchCV(estimator=model,\n",
    "                                 param_grid=params,\n",
    "                                 cv=cv,\n",
    "                                 scoring=\"roc_auc\",\n",
    "                                 n_jobs=-1,\n",
    "                                 verbose=0).fit(X,y)\n",
    "        \n",
    "        final_model = model.set_params(**best_grid.best_params_)\n",
    "        \n",
    "        final_cv_results = cross_validate(estimator=final_model,\n",
    "                                          X = X,\n",
    "                                          y = y,\n",
    "                                          cv = cv,\n",
    "                                          scoring=[\"roc_auc\",\"accuracy\"])\n",
    "        \n",
    "        final_roc_auc = final_cv_results[\"test_roc_auc\"].mean()\n",
    "        final_accuracy = final_cv_results[\"test_accuracy\"].mean()\n",
    "        \n",
    "        print(f\"For {name.upper()} After CV : \\n\\nROC AUC : {final_roc_auc}\\nAccuracy : {final_accuracy}\",\n",
    "              end = \"\\n\\n\")\n",
    "        print(f\"\\n\\nFor {name.upper()} Best Params : {best_grid.best_params_}\",end = \"\\n\\n\")\n",
    "        print(\"\".center(50,\"#\"),end = \"\\n\\n\")\n",
    "        \n",
    "        models_dict[name] = final_model\n",
    "        \n",
    "    return models_dict\n",
    "        "
   ]
  },
  {
   "cell_type": "code",
   "execution_count": 33,
   "id": "designing-pavilion",
   "metadata": {},
   "outputs": [
    {
     "name": "stdout",
     "output_type": "stream",
     "text": [
      "##################################################\n",
      "\n",
      "For LR Before CV :\n",
      "\n",
      "ROC AUC : 0.8672976261211556\n",
      "Accuracy : 0.8294007490636703\n",
      "\n",
      "##################################################\n",
      "\n",
      "For LR After CV : \n",
      "\n",
      "ROC AUC : 0.8684561016325721\n",
      "Accuracy : 0.8192883895131086\n",
      "\n",
      "\n",
      "\n",
      "For LR Best Params : {'C': 0.0001, 'max_iter': 1000, 'penalty': 'none', 'solver': 'lbfgs'}\n",
      "\n",
      "##################################################\n",
      "\n"
     ]
    }
   ],
   "source": [
    "from warnings import filterwarnings\n",
    "filterwarnings(\"ignore\")\n",
    "\n",
    "model_dict = hyperparameter_optimization(X, y , models, cv = 10)"
   ]
  },
  {
   "cell_type": "code",
   "execution_count": 34,
   "id": "piano-anderson",
   "metadata": {},
   "outputs": [],
   "source": [
    "for name,regressor,params in models:\n",
    "    \n",
    "    model_dict[name].fit(X,y)\n",
    "    pd.to_pickle(model_dict[name], open(name+\"_model.pkl\",\"wb\"))"
   ]
  },
  {
   "cell_type": "markdown",
   "id": "blond-inside",
   "metadata": {},
   "source": [
    "## Final Model"
   ]
  },
  {
   "cell_type": "code",
   "execution_count": 35,
   "id": "removable-monitor",
   "metadata": {},
   "outputs": [],
   "source": [
    "titanic_model = pickle.load(open(\"LR_model.pkl\",\"rb\"))"
   ]
  },
  {
   "cell_type": "code",
   "execution_count": 36,
   "id": "forbidden-wireless",
   "metadata": {},
   "outputs": [
    {
     "data": {
      "text/plain": [
       "{'C': 0.0001,\n",
       " 'class_weight': None,\n",
       " 'dual': False,\n",
       " 'fit_intercept': True,\n",
       " 'intercept_scaling': 1,\n",
       " 'l1_ratio': None,\n",
       " 'max_iter': 1000,\n",
       " 'multi_class': 'auto',\n",
       " 'n_jobs': None,\n",
       " 'penalty': 'none',\n",
       " 'random_state': None,\n",
       " 'solver': 'lbfgs',\n",
       " 'tol': 0.0001,\n",
       " 'verbose': 0,\n",
       " 'warm_start': False}"
      ]
     },
     "execution_count": 36,
     "metadata": {},
     "output_type": "execute_result"
    }
   ],
   "source": [
    "titanic_model.get_params()"
   ]
  },
  {
   "cell_type": "code",
   "execution_count": 37,
   "id": "indoor-assurance",
   "metadata": {},
   "outputs": [],
   "source": [
    "def roc_auc_plot(model, X, y):\n",
    "    \n",
    "    y_score = model.predict_proba(X)[:,1] \n",
    "    \n",
    "    fpr, tpr, thresholds = roc_curve(y,y_score)\n",
    "    \n",
    "    plt.figure(figsize = (7,5))\n",
    "    plt.plot(fpr, tpr)\n",
    "    plt.plot([0,1], [0,1] ,\"--r\")\n",
    "    size = 15\n",
    "    plt.xlabel(\" False Positive Rate \", fontsize = size)\n",
    "    plt.ylabel(\" True Positive Rate \", fontsize = size)\n",
    "    plt.title(\" AUC (Area : %.3f)\" % roc_auc_score(y, y_score) , fontsize = size)\n",
    "    plt.show()\n",
    "    \n",
    "def confusion_matrix_heat(model, X ,y):\n",
    "    \n",
    "    y_pred = model.predict(X)\n",
    "    data = confusion_matrix(y,y_pred)\n",
    "    \n",
    "    \n",
    "    fig , axes = plt.subplots(figsize = (7,5))\n",
    " \n",
    "    axes = sns.heatmap(data , annot = True , annot_kws= {\"size\" : 23} , fmt = \".3g\", linewidths=3,\n",
    "                      linecolor=\"white\", cbar = False, cmap = \"viridis\")\n",
    "    \n",
    "    size = 15\n",
    "    plt.xlabel(\" Predict Label \", fontsize = size)\n",
    "    plt.ylabel(\" True Label \", fontsize = size)\n",
    "    plt.title(f\" For {type(model).__name__.upper()} Confusion Matrix \", fontsize = size)\n",
    "    plt.show()\n",
    "    \n",
    "    "
   ]
  },
  {
   "cell_type": "code",
   "execution_count": 38,
   "id": "aggressive-specification",
   "metadata": {},
   "outputs": [
    {
     "data": {
      "image/png": "[encoded data removed]",
      "text/plain": [
       "<Figure size 504x360 with 1 Axes>"
      ]
     },
     "metadata": {
      "needs_background": "light"
     },
     "output_type": "display_data"
    }
   ],
   "source": [
    "confusion_matrix_heat(titanic_model, X, y)"
   ]
  },
  {
   "cell_type": "code",
   "execution_count": 39,
   "id": "metric-workstation",
   "metadata": {},
   "outputs": [
    {
     "data": {
      "image/png": "[encoded data removed]",
      "text/plain": [
       "<Figure size 504x360 with 1 Axes>"
      ]
     },
     "metadata": {
      "needs_background": "light"
     },
     "output_type": "display_data"
    }
   ],
   "source": [
    "roc_auc_plot(titanic_model, X, y)"
   ]
  },
  {
   "cell_type": "code",
   "execution_count": null,
   "id": "maritime-department",
   "metadata": {},
   "outputs": [],
   "source": []
  }
 ],
 "metadata": {
  "kernelspec": {
   "display_name": "Python 3",
   "language": "python",
   "name": "python3"
  },
  "language_info": {
   "codemirror_mode": {
    "name": "ipython",
    "version": 3
   },
   "file_extension": ".py",
   "mimetype": "text/x-python",
   "name": "python",
   "nbconvert_exporter": "python",
   "pygments_lexer": "ipython3",
   "version": "3.7.7"
  }
 },
 "nbformat": 4,
 "nbformat_minor": 5
}
